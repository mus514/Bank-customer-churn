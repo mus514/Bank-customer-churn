{
 "cells": [
  {
   "cell_type": "markdown",
   "metadata": {},
   "source": [
    "##### <h1 id=\"aa\" align=\"center\"> A STUDY OF BANK CUSTOMER CHURN </h1> \n",
    "\n",
    "\n",
    "Description of each variable:\n",
    "<ul>\n",
    "<li>Credit_score — credit rating </li>\n",
    "<li>geography — client country</li>\n",
    "<li>gender — client gender</li>\n",
    "<li>age — client age</li>\n",
    "<li>tenure — number of years spent by the client with the bank </li>\n",
    "<li>balance — client account balance</li>\n",
    "<li>num_of_product — number of products that the client purchased from the bank</li>\n",
    "<li>has_cr_card — the client has a credit card</li>\n",
    "<li>is-_active_member — active client </li>\n",
    "<li>estimated_salary — clien salary</li>\n",
    "<li>exited — client left the bank </li>    \n",
    "</ul>"
   ]
  },
  {
   "cell_type": "code",
   "execution_count": 96,
   "metadata": {
    "tags": []
   },
   "outputs": [],
   "source": [
    "# load libraries\n",
    "import pandas as pd \n",
    "import numpy as np\n",
    "import seaborn as sns\n",
    "from matplotlib import pyplot as plt   #plt.xkcd()\n",
    "from IPython.display import set_matplotlib_formats\n",
    "import matplotlib.ticker as mtick\n",
    "from sklearn.preprocessing import LabelEncoder\n",
    "from utilities import *\n",
    "import scipy.stats as ss\n",
    "from scipy.stats import ttest_ind\n",
    "from sklearn.metrics import confusion_matrix, accuracy_score, f1_score as f1\n",
    "from sklearn.preprocessing import StandardScaler, FunctionTransformer\n",
    "from sklearn.model_selection import train_test_split, cross_val_score\n",
    "from itertools import combinations\n",
    "from imblearn.over_sampling import SMOTE\n",
    "from sklearn.ensemble import RandomForestClassifier, AdaBoostClassifier\n",
    "from sklearn.svm import SVC\n",
    "from sklearn.pipeline import Pipeline\n",
    "import warnings\n",
    "warnings.filterwarnings(\"ignore\")"
   ]
  },
  {
   "cell_type": "code",
   "execution_count": 31,
   "metadata": {},
   "outputs": [],
   "source": [
    "# Improve quality of the plots\n",
    "set_matplotlib_formats('svg')\n",
    "# Set the style of the plot\n",
    "plt.style.use('seaborn-v0_8-white')\n",
    "#plt.xkcd()"
   ]
  },
  {
   "cell_type": "markdown",
   "metadata": {},
   "source": [
    "## 1-Load and clean the data"
   ]
  },
  {
   "cell_type": "code",
   "execution_count": 32,
   "metadata": {},
   "outputs": [
    {
     "data": {
      "text/html": [
       "<div>\n",
       "<style scoped>\n",
       "    .dataframe tbody tr th:only-of-type {\n",
       "        vertical-align: middle;\n",
       "    }\n",
       "\n",
       "    .dataframe tbody tr th {\n",
       "        vertical-align: top;\n",
       "    }\n",
       "\n",
       "    .dataframe thead th {\n",
       "        text-align: right;\n",
       "    }\n",
       "</style>\n",
       "<table border=\"1\" class=\"dataframe\">\n",
       "  <thead>\n",
       "    <tr style=\"text-align: right;\">\n",
       "      <th></th>\n",
       "      <th>RowNumber</th>\n",
       "      <th>CustomerId</th>\n",
       "      <th>Surname</th>\n",
       "      <th>CreditScore</th>\n",
       "      <th>Geography</th>\n",
       "      <th>Gender</th>\n",
       "      <th>Age</th>\n",
       "      <th>Tenure</th>\n",
       "      <th>Balance</th>\n",
       "      <th>NumOfProducts</th>\n",
       "      <th>HasCrCard</th>\n",
       "      <th>IsActiveMember</th>\n",
       "      <th>EstimatedSalary</th>\n",
       "      <th>Exited</th>\n",
       "    </tr>\n",
       "  </thead>\n",
       "  <tbody>\n",
       "    <tr>\n",
       "      <th>0</th>\n",
       "      <td>1</td>\n",
       "      <td>15634602</td>\n",
       "      <td>Hargrave</td>\n",
       "      <td>619</td>\n",
       "      <td>France</td>\n",
       "      <td>Female</td>\n",
       "      <td>42</td>\n",
       "      <td>2</td>\n",
       "      <td>0.00</td>\n",
       "      <td>1</td>\n",
       "      <td>1</td>\n",
       "      <td>1</td>\n",
       "      <td>101348.88</td>\n",
       "      <td>1</td>\n",
       "    </tr>\n",
       "    <tr>\n",
       "      <th>1</th>\n",
       "      <td>2</td>\n",
       "      <td>15647311</td>\n",
       "      <td>Hill</td>\n",
       "      <td>608</td>\n",
       "      <td>Spain</td>\n",
       "      <td>Female</td>\n",
       "      <td>41</td>\n",
       "      <td>1</td>\n",
       "      <td>83807.86</td>\n",
       "      <td>1</td>\n",
       "      <td>0</td>\n",
       "      <td>1</td>\n",
       "      <td>112542.58</td>\n",
       "      <td>0</td>\n",
       "    </tr>\n",
       "    <tr>\n",
       "      <th>2</th>\n",
       "      <td>3</td>\n",
       "      <td>15619304</td>\n",
       "      <td>Onio</td>\n",
       "      <td>502</td>\n",
       "      <td>France</td>\n",
       "      <td>Female</td>\n",
       "      <td>42</td>\n",
       "      <td>8</td>\n",
       "      <td>159660.80</td>\n",
       "      <td>3</td>\n",
       "      <td>1</td>\n",
       "      <td>0</td>\n",
       "      <td>113931.57</td>\n",
       "      <td>1</td>\n",
       "    </tr>\n",
       "    <tr>\n",
       "      <th>3</th>\n",
       "      <td>4</td>\n",
       "      <td>15701354</td>\n",
       "      <td>Boni</td>\n",
       "      <td>699</td>\n",
       "      <td>France</td>\n",
       "      <td>Female</td>\n",
       "      <td>39</td>\n",
       "      <td>1</td>\n",
       "      <td>0.00</td>\n",
       "      <td>2</td>\n",
       "      <td>0</td>\n",
       "      <td>0</td>\n",
       "      <td>93826.63</td>\n",
       "      <td>0</td>\n",
       "    </tr>\n",
       "    <tr>\n",
       "      <th>4</th>\n",
       "      <td>5</td>\n",
       "      <td>15737888</td>\n",
       "      <td>Mitchell</td>\n",
       "      <td>850</td>\n",
       "      <td>Spain</td>\n",
       "      <td>Female</td>\n",
       "      <td>43</td>\n",
       "      <td>2</td>\n",
       "      <td>125510.82</td>\n",
       "      <td>1</td>\n",
       "      <td>1</td>\n",
       "      <td>1</td>\n",
       "      <td>79084.10</td>\n",
       "      <td>0</td>\n",
       "    </tr>\n",
       "  </tbody>\n",
       "</table>\n",
       "</div>"
      ],
      "text/plain": [
       "   RowNumber  CustomerId   Surname  CreditScore Geography  Gender  Age  \\\n",
       "0          1    15634602  Hargrave          619    France  Female   42   \n",
       "1          2    15647311      Hill          608     Spain  Female   41   \n",
       "2          3    15619304      Onio          502    France  Female   42   \n",
       "3          4    15701354      Boni          699    France  Female   39   \n",
       "4          5    15737888  Mitchell          850     Spain  Female   43   \n",
       "\n",
       "   Tenure    Balance  NumOfProducts  HasCrCard  IsActiveMember  \\\n",
       "0       2       0.00              1          1               1   \n",
       "1       1   83807.86              1          0               1   \n",
       "2       8  159660.80              3          1               0   \n",
       "3       1       0.00              2          0               0   \n",
       "4       2  125510.82              1          1               1   \n",
       "\n",
       "   EstimatedSalary  Exited  \n",
       "0        101348.88       1  \n",
       "1        112542.58       0  \n",
       "2        113931.57       1  \n",
       "3         93826.63       0  \n",
       "4         79084.10       0  "
      ]
     },
     "execution_count": 32,
     "metadata": {},
     "output_type": "execute_result"
    }
   ],
   "source": [
    "# Load the data\n",
    "df = pd.read_csv(\"churn.csv\", index_col=False)\n",
    "df.head(5)"
   ]
  },
  {
   "cell_type": "markdown",
   "metadata": {},
   "source": [
    "* At least 3 columns do not provide training value : RowNumber, CustomerId and Surname\n"
   ]
  },
  {
   "cell_type": "code",
   "execution_count": 33,
   "metadata": {},
   "outputs": [],
   "source": [
    "col_name = ['credit_score', 'geography', 'gender', 'age', 'tenure', 'balance', \n",
    "            'num_of_products', 'has_cr_card', 'is_active_member', 'estimated_salary', 'exited']"
   ]
  },
  {
   "cell_type": "code",
   "execution_count": 34,
   "metadata": {},
   "outputs": [
    {
     "data": {
      "text/html": [
       "<div>\n",
       "<style scoped>\n",
       "    .dataframe tbody tr th:only-of-type {\n",
       "        vertical-align: middle;\n",
       "    }\n",
       "\n",
       "    .dataframe tbody tr th {\n",
       "        vertical-align: top;\n",
       "    }\n",
       "\n",
       "    .dataframe thead th {\n",
       "        text-align: right;\n",
       "    }\n",
       "</style>\n",
       "<table border=\"1\" class=\"dataframe\">\n",
       "  <thead>\n",
       "    <tr style=\"text-align: right;\">\n",
       "      <th></th>\n",
       "      <th>credit_score</th>\n",
       "      <th>geography</th>\n",
       "      <th>gender</th>\n",
       "      <th>age</th>\n",
       "      <th>tenure</th>\n",
       "      <th>balance</th>\n",
       "      <th>num_of_products</th>\n",
       "      <th>has_cr_card</th>\n",
       "      <th>is_active_member</th>\n",
       "      <th>estimated_salary</th>\n",
       "      <th>exited</th>\n",
       "    </tr>\n",
       "  </thead>\n",
       "  <tbody>\n",
       "    <tr>\n",
       "      <th>0</th>\n",
       "      <td>619</td>\n",
       "      <td>France</td>\n",
       "      <td>Female</td>\n",
       "      <td>42</td>\n",
       "      <td>2</td>\n",
       "      <td>0.00</td>\n",
       "      <td>1</td>\n",
       "      <td>1</td>\n",
       "      <td>1</td>\n",
       "      <td>101348.88</td>\n",
       "      <td>1</td>\n",
       "    </tr>\n",
       "    <tr>\n",
       "      <th>1</th>\n",
       "      <td>608</td>\n",
       "      <td>Spain</td>\n",
       "      <td>Female</td>\n",
       "      <td>41</td>\n",
       "      <td>1</td>\n",
       "      <td>83807.86</td>\n",
       "      <td>1</td>\n",
       "      <td>0</td>\n",
       "      <td>1</td>\n",
       "      <td>112542.58</td>\n",
       "      <td>0</td>\n",
       "    </tr>\n",
       "    <tr>\n",
       "      <th>2</th>\n",
       "      <td>502</td>\n",
       "      <td>France</td>\n",
       "      <td>Female</td>\n",
       "      <td>42</td>\n",
       "      <td>8</td>\n",
       "      <td>159660.80</td>\n",
       "      <td>3</td>\n",
       "      <td>1</td>\n",
       "      <td>0</td>\n",
       "      <td>113931.57</td>\n",
       "      <td>1</td>\n",
       "    </tr>\n",
       "    <tr>\n",
       "      <th>3</th>\n",
       "      <td>699</td>\n",
       "      <td>France</td>\n",
       "      <td>Female</td>\n",
       "      <td>39</td>\n",
       "      <td>1</td>\n",
       "      <td>0.00</td>\n",
       "      <td>2</td>\n",
       "      <td>0</td>\n",
       "      <td>0</td>\n",
       "      <td>93826.63</td>\n",
       "      <td>0</td>\n",
       "    </tr>\n",
       "    <tr>\n",
       "      <th>4</th>\n",
       "      <td>850</td>\n",
       "      <td>Spain</td>\n",
       "      <td>Female</td>\n",
       "      <td>43</td>\n",
       "      <td>2</td>\n",
       "      <td>125510.82</td>\n",
       "      <td>1</td>\n",
       "      <td>1</td>\n",
       "      <td>1</td>\n",
       "      <td>79084.10</td>\n",
       "      <td>0</td>\n",
       "    </tr>\n",
       "  </tbody>\n",
       "</table>\n",
       "</div>"
      ],
      "text/plain": [
       "   credit_score geography  gender  age  tenure    balance  num_of_products  \\\n",
       "0           619    France  Female   42       2       0.00                1   \n",
       "1           608     Spain  Female   41       1   83807.86                1   \n",
       "2           502    France  Female   42       8  159660.80                3   \n",
       "3           699    France  Female   39       1       0.00                2   \n",
       "4           850     Spain  Female   43       2  125510.82                1   \n",
       "\n",
       "   has_cr_card  is_active_member  estimated_salary  exited  \n",
       "0            1                 1         101348.88       1  \n",
       "1            0                 1         112542.58       0  \n",
       "2            1                 0         113931.57       1  \n",
       "3            0                 0          93826.63       0  \n",
       "4            1                 1          79084.10       0  "
      ]
     },
     "execution_count": 34,
     "metadata": {},
     "output_type": "execute_result"
    }
   ],
   "source": [
    "# Remove unnecessary variables\n",
    "df = df.drop([\"RowNumber\", \"CustomerId\", \"Surname\"], axis=1)\n",
    "# Change the columns name\n",
    "df.columns = col_name\n",
    "# Show the data\n",
    "df.head(5)"
   ]
  },
  {
   "cell_type": "code",
   "execution_count": 35,
   "metadata": {},
   "outputs": [
    {
     "name": "stdout",
     "output_type": "stream",
     "text": [
      "<class 'pandas.core.frame.DataFrame'>\n",
      "RangeIndex: 10000 entries, 0 to 9999\n",
      "Data columns (total 11 columns):\n",
      " #   Column            Non-Null Count  Dtype  \n",
      "---  ------            --------------  -----  \n",
      " 0   credit_score      10000 non-null  int64  \n",
      " 1   geography         10000 non-null  object \n",
      " 2   gender            10000 non-null  object \n",
      " 3   age               10000 non-null  int64  \n",
      " 4   tenure            10000 non-null  int64  \n",
      " 5   balance           10000 non-null  float64\n",
      " 6   num_of_products   10000 non-null  int64  \n",
      " 7   has_cr_card       10000 non-null  int64  \n",
      " 8   is_active_member  10000 non-null  int64  \n",
      " 9   estimated_salary  10000 non-null  float64\n",
      " 10  exited            10000 non-null  int64  \n",
      "dtypes: float64(2), int64(7), object(2)\n",
      "memory usage: 859.5+ KB\n"
     ]
    }
   ],
   "source": [
    "df.info()"
   ]
  },
  {
   "cell_type": "markdown",
   "metadata": {},
   "source": [
    "* The set contains information about 10,000 bank users\n",
    "\n",
    "* No empty values found\n",
    "\n",
    "* There are both nominative and quantitative characteristics"
   ]
  },
  {
   "cell_type": "code",
   "execution_count": 36,
   "metadata": {},
   "outputs": [
    {
     "data": {
      "text/plain": [
       "credit_score         460\n",
       "geography              3\n",
       "gender                 2\n",
       "age                   70\n",
       "tenure                11\n",
       "balance             6382\n",
       "num_of_products        4\n",
       "has_cr_card            2\n",
       "is_active_member       2\n",
       "estimated_salary    9999\n",
       "exited                 2\n",
       "dtype: int64"
      ]
     },
     "execution_count": 36,
     "metadata": {},
     "output_type": "execute_result"
    }
   ],
   "source": [
    "# Number of unique value for each variable\n",
    "df.nunique()"
   ]
  },
  {
   "cell_type": "markdown",
   "metadata": {},
   "source": [
    "## 2-Statistics and data visualisation"
   ]
  },
  {
   "cell_type": "markdown",
   "metadata": {},
   "source": [
    "### Bar plot of binary variables"
   ]
  },
  {
   "cell_type": "code",
   "execution_count": 37,
   "metadata": {},
   "outputs": [],
   "source": [
    "# plt.figure(figsize=(8, 8))\n",
    "# bar_columns = [\"exited\", \"gender\", \"has_cr_card\", \"is_active_member\"]\n",
    "# counter = 1\n",
    "# for key in bar_columns:\n",
    "#     plt.subplot(2, 2, counter)\n",
    "#     bar_plot(df[key], x_label=key, y_label=\"%\", color=['indigo', 'gold'])\n",
    "#     counter += 1"
   ]
  },
  {
   "cell_type": "markdown",
   "metadata": {},
   "source": [
    "* Gender and activities among customers are evenly distributed.\n",
    "* The proportion of customers holding a credit card is lower.\n",
    "* The proportion of exiting customers is low."
   ]
  },
  {
   "cell_type": "markdown",
   "metadata": {},
   "source": [
    "### Box plot of continuous variables"
   ]
  },
  {
   "cell_type": "code",
   "execution_count": 38,
   "metadata": {},
   "outputs": [],
   "source": [
    "numeric_col = ['age', 'estimated_salary', 'balance', 'credit_score']"
   ]
  },
  {
   "cell_type": "code",
   "execution_count": 39,
   "metadata": {},
   "outputs": [],
   "source": [
    "# \n",
    "\n",
    "# plt.figure(figsize=(10, 10))\n",
    "# counter = 1\n",
    "# for key in numeric_col:\n",
    "#     plt.subplot(2, 2, counter)\n",
    "#     sns.boxplot(x = df['exited'], y = df[key], palette=['indigo', 'gold'])\\\n",
    "#                                                     .set(title=f'{key} by exited')\n",
    "#     counter += 1"
   ]
  },
  {
   "cell_type": "markdown",
   "metadata": {},
   "source": [
    "### Correlation between numerical variables"
   ]
  },
  {
   "cell_type": "code",
   "execution_count": 40,
   "metadata": {},
   "outputs": [],
   "source": [
    "# # Correlation between numrical variable\n",
    "# plt.figure(figsize=(9, 6))\n",
    "# sns.heatmap(df.drop(['geography', 'gender'], axis=1).corr(), annot=True, cmap='viridis', linewidths=.5)\n",
    "# plt.title('Correlation Plot')"
   ]
  },
  {
   "cell_type": "markdown",
   "metadata": {},
   "source": [
    "* Based on the chart provided, there is no strong linear relationship observed between the variables."
   ]
  },
  {
   "cell_type": "markdown",
   "metadata": {},
   "source": [
    "### Association between categorical variables"
   ]
  },
  {
   "cell_type": "markdown",
   "metadata": {},
   "source": [
    "For this purpose, we will use Cramer's V. It measures how strongly two categorical fields are associated.\n",
    "\n",
    "$$\n",
    "\\mathcal{V} = \\sqrt{\\frac{\\chi^2/n}{min(r-1, c-1)}}\n",
    "$$"
   ]
  },
  {
   "cell_type": "code",
   "execution_count": 41,
   "metadata": {},
   "outputs": [],
   "source": [
    "categorical_col = [\"num_of_products\", \"gender\", \"has_cr_card\", \"is_active_member\", \"geography\"]\n",
    "score = {}\n",
    "exited = df[\"exited\"]\n",
    "for col in categorical_col:\n",
    "    temp = df[col]\n",
    "    the_confusion_matrix = pd.crosstab(exited, temp).to_numpy()\n",
    "    score[col] = CramerV(the_confusion_matrix, True)\n",
    "\n",
    "score = pd.Series(score, index=categorical_col).sort_values(ascending=False)"
   ]
  },
  {
   "cell_type": "code",
   "execution_count": 42,
   "metadata": {},
   "outputs": [],
   "source": [
    "# score.plot(kind=\"bar\", grid=True, color=['#4B0082', '#4B008266', '#4B008299', '#4B0082CC'])\n",
    "# plt.xticks(rotation=50, ha='right')\n",
    "# plt.title('Exited and Categorical')"
   ]
  },
  {
   "cell_type": "markdown",
   "metadata": {},
   "source": [
    "* A Cramer's V value of 0.4 indicates a moderate level of association between `exited` and `num_of_products`. The association is more substantial compared to the previous value, but it's still not very strong.\n",
    "\n",
    "* The remaine variables suggests a relatively weak association with the `exited` variable."
   ]
  },
  {
   "cell_type": "markdown",
   "metadata": {},
   "source": [
    "### Conditional probabilities"
   ]
  },
  {
   "cell_type": "code",
   "execution_count": 43,
   "metadata": {},
   "outputs": [],
   "source": [
    "#--------------------------------------------\n",
    "# Calculating the continitional probabilities \n",
    "#--------------------------------------------\n",
    "probs = {}\n",
    "for col in categorical_col:\n",
    "    uniques = df[col].unique()\n",
    "    for unique in uniques:\n",
    "        condition = df[col] == unique\n",
    "        probs[f'P(Exited|{col}={unique})'] = round(df.loc[condition, 'exited'].mean(), 2)\n",
    "\n",
    "\n",
    "probs = pd.Series(probs).sort_values(ascending=False)"
   ]
  },
  {
   "cell_type": "code",
   "execution_count": 44,
   "metadata": {},
   "outputs": [],
   "source": [
    "# #--------------------------------------------\n",
    "# # plot the  probabilities \n",
    "# #--------------------------------------------\n",
    "# colors = [\"#FF0000\", \"#FF4500\", \"#FFA500\", \"#FFD700\", \"#FFFF00\",\"#ADFF2F\", \"#7FFF00\", \"#00FF00\", \n",
    "#           \"#00FA9A\", \"#00CED1\", \"#4682B4\", \"#0000FF\", \"#4B0082\"]\n",
    "# probs.plot(kind=\"bar\", grid = True, color = colors)\n",
    "# plt.xticks(rotation=50, ha='right')\n",
    "# plt.title('Probability of Exited given Categorical')"
   ]
  },
  {
   "cell_type": "markdown",
   "metadata": {},
   "source": [
    "* Customers with 4 or 3 products face a higher risk of exiting the bank compared to those with 1 or 2 products.\n",
    "\n",
    "* For the other variables, the risk of exiting is significantly low."
   ]
  },
  {
   "cell_type": "markdown",
   "metadata": {},
   "source": [
    "### Distribution of continuous variables"
   ]
  },
  {
   "cell_type": "code",
   "execution_count": 45,
   "metadata": {},
   "outputs": [],
   "source": [
    "# fig, axes = plt.subplots(2,2, figsize = (9,9))\n",
    "# plt.subplots_adjust(hspace=0.5)\n",
    "# columns = df[numeric_col]\n",
    "# for i, column in enumerate(columns):\n",
    "#     ax = axes[i // 2, i % 2]\n",
    "#     sns.kdeplot(data = df,\n",
    "#                 x = column,\n",
    "#                 fill = True,\n",
    "#                 alpha = 0.5,\n",
    "#                 hue = 'exited',\n",
    "#                 palette = ['#6A5ACD', '#4B0082'],\n",
    "#                 ax = ax)\n",
    "#     ax.set_xlabel(column, fontsize = 14)\n",
    "# plt.show()"
   ]
  },
  {
   "cell_type": "markdown",
   "metadata": {},
   "source": [
    "* Given the distributions above, we observe that the distribution changes when clients exit or stay.\n",
    "* We observe a heavy tail in the distributions, which implies higher probabilities for the extreme values.\n",
    "* Clients over 70 and below 20 have a higher chance of not exiting.."
   ]
  },
  {
   "cell_type": "code",
   "execution_count": 46,
   "metadata": {},
   "outputs": [],
   "source": [
    "# plt.figure(figsize=(10, 9))\n",
    "# paired_list_numerical = list(combinations(numeric_col, 2))\n",
    "# counter = 1\n",
    "# for key in paired_list_numerical:\n",
    "#     plt.subplot(3, 2, counter)\n",
    "#     sns.scatterplot(x=key[0], y=key[1], hue=\"exited\", palette=['#6A5ACD', \"gold\"], data=df) \n",
    "#     counter += 1"
   ]
  },
  {
   "cell_type": "markdown",
   "metadata": {},
   "source": [
    "* According to the depicted plot, as customer age increases, there appears to be a tendency for the balance to converge towards the median value. Otherwie, there is no significant relationship discernible among the other numerical variables."
   ]
  },
  {
   "cell_type": "code",
   "execution_count": 47,
   "metadata": {},
   "outputs": [],
   "source": [
    "# fig, axes = plt.subplots(2,2, figsize = (9,9))\n",
    "# plt.subplots_adjust(hspace=0.5)\n",
    "# columns = df[numeric_col]\n",
    "# for i, column in enumerate(columns):\n",
    "#     ax = axes[i // 2, i % 2]\n",
    "#     sns.kdeplot(data = df,\n",
    "#                 x = column,\n",
    "#                 fill = True,\n",
    "#                 alpha = 0.5,\n",
    "#                 hue = 'gender',\n",
    "#                 palette = ['#4B0082', '#6A5ACD'],\n",
    "#                 ax = ax)\n",
    "#     ax.set_xlabel(column, fontsize = 14)\n",
    "# plt.show()"
   ]
  },
  {
   "cell_type": "markdown",
   "metadata": {},
   "source": [
    "We observe slightly higher values in credit score, estimated salary, age, and account balance for males compared to females. This difference is linked to the greater number of male customers as opposed to female customers."
   ]
  },
  {
   "cell_type": "code",
   "execution_count": 48,
   "metadata": {},
   "outputs": [],
   "source": [
    "# fig, axes = plt.subplots(2,2, figsize = (10,10))\n",
    "# plt.subplots_adjust(hspace=0.5)\n",
    "# columns = df[numeric_col]\n",
    "# for i, column in enumerate(columns):\n",
    "#     ax = axes[i // 2, i % 2]\n",
    "#     sns.kdeplot(data = df,\n",
    "#                 x = column,\n",
    "#                 fill = True,\n",
    "#                 alpha = 0.5,\n",
    "#                 hue = 'geography',\n",
    "#                 palette = ['#17b3a8', '#ff0a89', '#4682B4'],\n",
    "#                 ax = ax)\n",
    "#     ax.set_xlabel(column, fontsize = 14)\n",
    "# plt.show()"
   ]
  },
  {
   "cell_type": "markdown",
   "metadata": {},
   "source": [
    "* For age, credit score, balance, and estimated salary, France exhibits higher values in the tail, indicating a higher probability of extreme values."
   ]
  },
  {
   "cell_type": "markdown",
   "metadata": {},
   "source": [
    "### Summary of continuous variables"
   ]
  },
  {
   "cell_type": "code",
   "execution_count": 49,
   "metadata": {},
   "outputs": [
    {
     "data": {
      "text/html": [
       "<div>\n",
       "<style scoped>\n",
       "    .dataframe tbody tr th:only-of-type {\n",
       "        vertical-align: middle;\n",
       "    }\n",
       "\n",
       "    .dataframe tbody tr th {\n",
       "        vertical-align: top;\n",
       "    }\n",
       "\n",
       "    .dataframe thead th {\n",
       "        text-align: right;\n",
       "    }\n",
       "</style>\n",
       "<table border=\"1\" class=\"dataframe\">\n",
       "  <thead>\n",
       "    <tr style=\"text-align: right;\">\n",
       "      <th></th>\n",
       "      <th>age</th>\n",
       "      <th>estimated_salary</th>\n",
       "      <th>balance</th>\n",
       "      <th>credit_score</th>\n",
       "    </tr>\n",
       "  </thead>\n",
       "  <tbody>\n",
       "    <tr>\n",
       "      <th>count</th>\n",
       "      <td>10000.000000</td>\n",
       "      <td>10000.000000</td>\n",
       "      <td>10000.000000</td>\n",
       "      <td>10000.000000</td>\n",
       "    </tr>\n",
       "    <tr>\n",
       "      <th>mean</th>\n",
       "      <td>38.921800</td>\n",
       "      <td>100090.239881</td>\n",
       "      <td>76485.889288</td>\n",
       "      <td>650.528800</td>\n",
       "    </tr>\n",
       "    <tr>\n",
       "      <th>std</th>\n",
       "      <td>10.487806</td>\n",
       "      <td>57510.492818</td>\n",
       "      <td>62397.405202</td>\n",
       "      <td>96.653299</td>\n",
       "    </tr>\n",
       "    <tr>\n",
       "      <th>min</th>\n",
       "      <td>18.000000</td>\n",
       "      <td>11.580000</td>\n",
       "      <td>0.000000</td>\n",
       "      <td>350.000000</td>\n",
       "    </tr>\n",
       "    <tr>\n",
       "      <th>25%</th>\n",
       "      <td>32.000000</td>\n",
       "      <td>51002.110000</td>\n",
       "      <td>0.000000</td>\n",
       "      <td>584.000000</td>\n",
       "    </tr>\n",
       "    <tr>\n",
       "      <th>50%</th>\n",
       "      <td>37.000000</td>\n",
       "      <td>100193.915000</td>\n",
       "      <td>97198.540000</td>\n",
       "      <td>652.000000</td>\n",
       "    </tr>\n",
       "    <tr>\n",
       "      <th>75%</th>\n",
       "      <td>44.000000</td>\n",
       "      <td>149388.247500</td>\n",
       "      <td>127644.240000</td>\n",
       "      <td>718.000000</td>\n",
       "    </tr>\n",
       "    <tr>\n",
       "      <th>max</th>\n",
       "      <td>92.000000</td>\n",
       "      <td>199992.480000</td>\n",
       "      <td>250898.090000</td>\n",
       "      <td>850.000000</td>\n",
       "    </tr>\n",
       "  </tbody>\n",
       "</table>\n",
       "</div>"
      ],
      "text/plain": [
       "                age  estimated_salary        balance  credit_score\n",
       "count  10000.000000      10000.000000   10000.000000  10000.000000\n",
       "mean      38.921800     100090.239881   76485.889288    650.528800\n",
       "std       10.487806      57510.492818   62397.405202     96.653299\n",
       "min       18.000000         11.580000       0.000000    350.000000\n",
       "25%       32.000000      51002.110000       0.000000    584.000000\n",
       "50%       37.000000     100193.915000   97198.540000    652.000000\n",
       "75%       44.000000     149388.247500  127644.240000    718.000000\n",
       "max       92.000000     199992.480000  250898.090000    850.000000"
      ]
     },
     "execution_count": 49,
     "metadata": {},
     "output_type": "execute_result"
    }
   ],
   "source": [
    "# Summary of numerical variables\n",
    "df[numeric_col].describe()"
   ]
  },
  {
   "cell_type": "markdown",
   "metadata": {},
   "source": [
    "### Mean of continuous variables given the exited variable"
   ]
  },
  {
   "cell_type": "code",
   "execution_count": 50,
   "metadata": {},
   "outputs": [
    {
     "data": {
      "text/html": [
       "<div>\n",
       "<style scoped>\n",
       "    .dataframe tbody tr th:only-of-type {\n",
       "        vertical-align: middle;\n",
       "    }\n",
       "\n",
       "    .dataframe tbody tr th {\n",
       "        vertical-align: top;\n",
       "    }\n",
       "\n",
       "    .dataframe thead th {\n",
       "        text-align: right;\n",
       "    }\n",
       "</style>\n",
       "<table border=\"1\" class=\"dataframe\">\n",
       "  <thead>\n",
       "    <tr style=\"text-align: right;\">\n",
       "      <th></th>\n",
       "      <th>exited</th>\n",
       "      <th>credit_score</th>\n",
       "      <th>age</th>\n",
       "      <th>estimated_salary_x</th>\n",
       "      <th>estimated_salary_y</th>\n",
       "    </tr>\n",
       "  </thead>\n",
       "  <tbody>\n",
       "    <tr>\n",
       "      <th>0</th>\n",
       "      <td>0</td>\n",
       "      <td>651.853196</td>\n",
       "      <td>37.408389</td>\n",
       "      <td>99738.391772</td>\n",
       "      <td>99738.391772</td>\n",
       "    </tr>\n",
       "    <tr>\n",
       "      <th>1</th>\n",
       "      <td>1</td>\n",
       "      <td>645.351497</td>\n",
       "      <td>44.837997</td>\n",
       "      <td>101465.677531</td>\n",
       "      <td>101465.677531</td>\n",
       "    </tr>\n",
       "  </tbody>\n",
       "</table>\n",
       "</div>"
      ],
      "text/plain": [
       "   exited  credit_score        age  estimated_salary_x  estimated_salary_y\n",
       "0       0    651.853196  37.408389        99738.391772        99738.391772\n",
       "1       1    645.351497  44.837997       101465.677531       101465.677531"
      ]
     },
     "execution_count": 50,
     "metadata": {},
     "output_type": "execute_result"
    }
   ],
   "source": [
    "ex_cr = df.groupby('exited')['credit_score'].mean().reset_index()\n",
    "ex_age = df.groupby('exited')['age'].mean().reset_index()\n",
    "merge_1 = pd.merge(ex_cr, ex_age, on='exited')\n",
    "ex_salary = df.groupby('exited')['estimated_salary'].mean().reset_index()\n",
    "merge_2 = pd.merge(merge_1, ex_salary, on='exited')\n",
    "ex_balance = df.groupby('exited')['estimated_salary'].mean().reset_index()\n",
    "pd.merge(merge_2, ex_balance, on='exited')"
   ]
  },
  {
   "cell_type": "markdown",
   "metadata": {},
   "source": [
    "Visually, the conditional mean of continuous variables shows minimal distinctions.\n",
    "\n",
    "To validate this observation, we will conduct statistical tests.\n",
    "\n",
    "We will test if \n",
    "\n",
    "$$\n",
    "H_0 : \\mathbb{E}[X_i|exited = 1] - \\mathbb{E}[X_i|exited = 0] = 0\n",
    "$$\n",
    "\n",
    "$$\n",
    "H_1 : \\mathbb{E}[X_i|exited = 1] - \\mathbb{E}[X_i|exited = 0] \\neq 0\n",
    "$$\n",
    "\n",
    "$H_0$ : No significant difference between the means\n",
    "\n",
    "$H_1$ : There is a significant difference between the means\n",
    "\n",
    "The sample mean : $\\bar{Y}_{1} = \\frac{1}{n_1}\\sum_{i=1}^{n_1}Y_{1, i}$   and   $\\bar{Y}_{2} = \\frac{1}{n_2}\\sum_{i=1}^{n_2}$\n",
    "\n",
    "\n",
    "The sample variance : $S^2_1 = \\frac{1}{n_1-1}\\sum_{i=1}^{n_1}(Y_{1,i} - \\bar{Y}_{1})^2$ and $S^2_2 = \\frac{1}{n_2-1}\\sum_{i=1}^{n_2}(Y_{2,i} - \\bar{Y}_{2})^2$\n",
    "\n",
    "$S^2_p = \\frac{(n_1 - 1)S^2_1 + (n_2 - 1)S^2_2}{n_1 + n_2 - 2}$\n",
    "\n",
    "$S^2_p$ : is the common variance estimation\n",
    "\n",
    "We calculate the t value :\n",
    "\n",
    "$$\n",
    "t = \\frac{\\bar{Y}_{1} - \\bar{Y}_{2}}{S_p\\sqrt{\\frac{1}{n_1} + \\frac{1}{n_2}}}\n",
    "$$\n",
    "\n",
    "Finaly, after setting a level $\\alpha$, we can calcula the `p_value`. If the $p-value > \\alpha$ we don't reject $H_0$, otherwise, we rejected.\n",
    "\n",
    "$$\n",
    "p-value = \\mathbb{P}(T > |t|)\n",
    "$$\n",
    "\n",
    "where \n",
    "\n",
    "$$\n",
    "T \\sim \\mathcal{Student}(n_1 + n_2 -2)\n",
    "$$"
   ]
  },
  {
   "cell_type": "code",
   "execution_count": 51,
   "metadata": {},
   "outputs": [
    {
     "name": "stdout",
     "output_type": "stream",
     "text": [
      "[age, exited] : Reject the null hypothesis with level 0.05; there is a significant difference between groups.\n",
      "===\n",
      "[estimated_salary, exited] : Fail to reject the null hypothesis with level 0.05; there is no significant difference between groups.\n",
      "===\n",
      "[balance, exited] : Reject the null hypothesis with level 0.05; there is a significant difference between groups.\n",
      "===\n",
      "[credit_score, exited] : Reject the null hypothesis with level 0.05; there is a significant difference between groups.\n",
      "===\n"
     ]
    }
   ],
   "source": [
    "student_test(df, numeric_col, group_by='exited', alpha_level=0.05)"
   ]
  },
  {
   "cell_type": "markdown",
   "metadata": {},
   "source": [
    "* There is no significant difference in the mean of `estimated_salary` between individuals who stay and those who exit.\n",
    "\n",
    "* For the other variables, according to the t-test results, there is a significant difference."
   ]
  },
  {
   "cell_type": "markdown",
   "metadata": {},
   "source": [
    "### Mean of continuous variables given the gender"
   ]
  },
  {
   "cell_type": "code",
   "execution_count": 52,
   "metadata": {},
   "outputs": [
    {
     "name": "stdout",
     "output_type": "stream",
     "text": [
      "[age, gender] : Reject the null hypothesis with level 0.05; there is a significant difference between groups.\n",
      "===\n",
      "[estimated_salary, gender] : Fail to reject the null hypothesis with level 0.05; there is no significant difference between groups.\n",
      "===\n",
      "[balance, gender] : Fail to reject the null hypothesis with level 0.05; there is no significant difference between groups.\n",
      "===\n",
      "[credit_score, gender] : Fail to reject the null hypothesis with level 0.05; there is no significant difference between groups.\n",
      "===\n"
     ]
    }
   ],
   "source": [
    "student_test(df, numeric_col, group_by='gender', alpha_level=0.05)"
   ]
  },
  {
   "cell_type": "markdown",
   "metadata": {},
   "source": [
    "* There is significant difference in the mean of `age` between male and female.\n",
    "\n",
    "* For the other variables, according to the t-test results, there is no significant difference."
   ]
  },
  {
   "cell_type": "markdown",
   "metadata": {},
   "source": [
    "### Mean of continuous variables given the is active member"
   ]
  },
  {
   "cell_type": "code",
   "execution_count": 53,
   "metadata": {},
   "outputs": [
    {
     "name": "stdout",
     "output_type": "stream",
     "text": [
      "[age, is_active_member] : Reject the null hypothesis with level 0.05; there is a significant difference between groups.\n",
      "===\n",
      "[estimated_salary, is_active_member] : Fail to reject the null hypothesis with level 0.05; there is no significant difference between groups.\n",
      "===\n",
      "[balance, is_active_member] : Fail to reject the null hypothesis with level 0.05; there is no significant difference between groups.\n",
      "===\n",
      "[credit_score, is_active_member] : Reject the null hypothesis with level 0.05; there is a significant difference between groups.\n",
      "===\n"
     ]
    }
   ],
   "source": [
    "student_test(df, numeric_col, group_by='is_active_member', alpha_level=0.05)"
   ]
  },
  {
   "cell_type": "markdown",
   "metadata": {},
   "source": [
    "* The average age and the credit score of active customers is significantly different.\n",
    "\n",
    "* For the other variables, according to the t-test results, there is no significant difference."
   ]
  },
  {
   "cell_type": "markdown",
   "metadata": {},
   "source": [
    "## 3-Implementation of predictive models."
   ]
  },
  {
   "cell_type": "markdown",
   "metadata": {},
   "source": [
    "Befor deploying models, I'll create binary columns for each category and indicates the presence of the category with a 1 in the corresponding column. This is suitable when there is no ordinal relationship among the categories.\n",
    "\n",
    "Also standardizing data is an important preprocessing step before applying machine learning algorithms for several reasons because often rely on numerical optimization techniques, such as gradient descent. These algorithms can be sensitive to the scale of input features. Standardizing the data ensures that all features have a mean of 0 and a standard deviation of 1, making the scale consistent across variables."
   ]
  },
  {
   "cell_type": "code",
   "execution_count": 54,
   "metadata": {},
   "outputs": [
    {
     "data": {
      "text/html": [
       "<div>\n",
       "<style scoped>\n",
       "    .dataframe tbody tr th:only-of-type {\n",
       "        vertical-align: middle;\n",
       "    }\n",
       "\n",
       "    .dataframe tbody tr th {\n",
       "        vertical-align: top;\n",
       "    }\n",
       "\n",
       "    .dataframe thead th {\n",
       "        text-align: right;\n",
       "    }\n",
       "</style>\n",
       "<table border=\"1\" class=\"dataframe\">\n",
       "  <thead>\n",
       "    <tr style=\"text-align: right;\">\n",
       "      <th></th>\n",
       "      <th>credit_score</th>\n",
       "      <th>gender</th>\n",
       "      <th>age</th>\n",
       "      <th>tenure</th>\n",
       "      <th>balance</th>\n",
       "      <th>num_of_products</th>\n",
       "      <th>has_cr_card</th>\n",
       "      <th>is_active_member</th>\n",
       "      <th>estimated_salary</th>\n",
       "      <th>is_France</th>\n",
       "      <th>is_Germany</th>\n",
       "      <th>is_Spain</th>\n",
       "      <th>exited</th>\n",
       "    </tr>\n",
       "  </thead>\n",
       "  <tbody>\n",
       "    <tr>\n",
       "      <th>0</th>\n",
       "      <td>619</td>\n",
       "      <td>1</td>\n",
       "      <td>42</td>\n",
       "      <td>2</td>\n",
       "      <td>0.00</td>\n",
       "      <td>1</td>\n",
       "      <td>1</td>\n",
       "      <td>1</td>\n",
       "      <td>101348.88</td>\n",
       "      <td>1</td>\n",
       "      <td>0</td>\n",
       "      <td>0</td>\n",
       "      <td>1</td>\n",
       "    </tr>\n",
       "    <tr>\n",
       "      <th>1</th>\n",
       "      <td>608</td>\n",
       "      <td>1</td>\n",
       "      <td>41</td>\n",
       "      <td>1</td>\n",
       "      <td>83807.86</td>\n",
       "      <td>1</td>\n",
       "      <td>0</td>\n",
       "      <td>1</td>\n",
       "      <td>112542.58</td>\n",
       "      <td>0</td>\n",
       "      <td>0</td>\n",
       "      <td>1</td>\n",
       "      <td>0</td>\n",
       "    </tr>\n",
       "    <tr>\n",
       "      <th>2</th>\n",
       "      <td>502</td>\n",
       "      <td>1</td>\n",
       "      <td>42</td>\n",
       "      <td>8</td>\n",
       "      <td>159660.80</td>\n",
       "      <td>3</td>\n",
       "      <td>1</td>\n",
       "      <td>0</td>\n",
       "      <td>113931.57</td>\n",
       "      <td>1</td>\n",
       "      <td>0</td>\n",
       "      <td>0</td>\n",
       "      <td>1</td>\n",
       "    </tr>\n",
       "    <tr>\n",
       "      <th>3</th>\n",
       "      <td>699</td>\n",
       "      <td>1</td>\n",
       "      <td>39</td>\n",
       "      <td>1</td>\n",
       "      <td>0.00</td>\n",
       "      <td>2</td>\n",
       "      <td>0</td>\n",
       "      <td>0</td>\n",
       "      <td>93826.63</td>\n",
       "      <td>1</td>\n",
       "      <td>0</td>\n",
       "      <td>0</td>\n",
       "      <td>0</td>\n",
       "    </tr>\n",
       "    <tr>\n",
       "      <th>4</th>\n",
       "      <td>850</td>\n",
       "      <td>1</td>\n",
       "      <td>43</td>\n",
       "      <td>2</td>\n",
       "      <td>125510.82</td>\n",
       "      <td>1</td>\n",
       "      <td>1</td>\n",
       "      <td>1</td>\n",
       "      <td>79084.10</td>\n",
       "      <td>0</td>\n",
       "      <td>0</td>\n",
       "      <td>1</td>\n",
       "      <td>0</td>\n",
       "    </tr>\n",
       "    <tr>\n",
       "      <th>5</th>\n",
       "      <td>645</td>\n",
       "      <td>0</td>\n",
       "      <td>44</td>\n",
       "      <td>8</td>\n",
       "      <td>113755.78</td>\n",
       "      <td>2</td>\n",
       "      <td>1</td>\n",
       "      <td>0</td>\n",
       "      <td>149756.71</td>\n",
       "      <td>0</td>\n",
       "      <td>0</td>\n",
       "      <td>1</td>\n",
       "      <td>1</td>\n",
       "    </tr>\n",
       "    <tr>\n",
       "      <th>6</th>\n",
       "      <td>822</td>\n",
       "      <td>0</td>\n",
       "      <td>50</td>\n",
       "      <td>7</td>\n",
       "      <td>0.00</td>\n",
       "      <td>2</td>\n",
       "      <td>1</td>\n",
       "      <td>1</td>\n",
       "      <td>10062.80</td>\n",
       "      <td>1</td>\n",
       "      <td>0</td>\n",
       "      <td>0</td>\n",
       "      <td>0</td>\n",
       "    </tr>\n",
       "    <tr>\n",
       "      <th>7</th>\n",
       "      <td>376</td>\n",
       "      <td>1</td>\n",
       "      <td>29</td>\n",
       "      <td>4</td>\n",
       "      <td>115046.74</td>\n",
       "      <td>4</td>\n",
       "      <td>1</td>\n",
       "      <td>0</td>\n",
       "      <td>119346.88</td>\n",
       "      <td>0</td>\n",
       "      <td>1</td>\n",
       "      <td>0</td>\n",
       "      <td>1</td>\n",
       "    </tr>\n",
       "    <tr>\n",
       "      <th>8</th>\n",
       "      <td>501</td>\n",
       "      <td>0</td>\n",
       "      <td>44</td>\n",
       "      <td>4</td>\n",
       "      <td>142051.07</td>\n",
       "      <td>2</td>\n",
       "      <td>0</td>\n",
       "      <td>1</td>\n",
       "      <td>74940.50</td>\n",
       "      <td>1</td>\n",
       "      <td>0</td>\n",
       "      <td>0</td>\n",
       "      <td>0</td>\n",
       "    </tr>\n",
       "    <tr>\n",
       "      <th>9</th>\n",
       "      <td>684</td>\n",
       "      <td>0</td>\n",
       "      <td>27</td>\n",
       "      <td>2</td>\n",
       "      <td>134603.88</td>\n",
       "      <td>1</td>\n",
       "      <td>1</td>\n",
       "      <td>1</td>\n",
       "      <td>71725.73</td>\n",
       "      <td>1</td>\n",
       "      <td>0</td>\n",
       "      <td>0</td>\n",
       "      <td>0</td>\n",
       "    </tr>\n",
       "  </tbody>\n",
       "</table>\n",
       "</div>"
      ],
      "text/plain": [
       "   credit_score  gender  age  tenure    balance  num_of_products  has_cr_card  \\\n",
       "0           619       1   42       2       0.00                1            1   \n",
       "1           608       1   41       1   83807.86                1            0   \n",
       "2           502       1   42       8  159660.80                3            1   \n",
       "3           699       1   39       1       0.00                2            0   \n",
       "4           850       1   43       2  125510.82                1            1   \n",
       "5           645       0   44       8  113755.78                2            1   \n",
       "6           822       0   50       7       0.00                2            1   \n",
       "7           376       1   29       4  115046.74                4            1   \n",
       "8           501       0   44       4  142051.07                2            0   \n",
       "9           684       0   27       2  134603.88                1            1   \n",
       "\n",
       "   is_active_member  estimated_salary  is_France  is_Germany  is_Spain  exited  \n",
       "0                 1         101348.88          1           0         0       1  \n",
       "1                 1         112542.58          0           0         1       0  \n",
       "2                 0         113931.57          1           0         0       1  \n",
       "3                 0          93826.63          1           0         0       0  \n",
       "4                 1          79084.10          0           0         1       0  \n",
       "5                 0         149756.71          0           0         1       1  \n",
       "6                 1          10062.80          1           0         0       0  \n",
       "7                 0         119346.88          0           1         0       1  \n",
       "8                 1          74940.50          1           0         0       0  \n",
       "9                 1          71725.73          1           0         0       0  "
      ]
     },
     "execution_count": 54,
     "metadata": {},
     "output_type": "execute_result"
    }
   ],
   "source": [
    "df= pd.get_dummies(df, columns=['geography'], prefix=\"is\")\n",
    "df[\"gender\"] = df[\"gender\"].replace({\"Female\":1, \"Male\":0})\n",
    "exited = df.pop(\"exited\")\n",
    "df[\"exited\"] = exited\n",
    "df = df*1\n",
    "df.head(10)"
   ]
  },
  {
   "cell_type": "code",
   "execution_count": 114,
   "metadata": {},
   "outputs": [],
   "source": [
    "#--------------------------------------------\n",
    "# Split the data to train and test\n",
    "#--------------------------------------------\n",
    "X = df.drop(\"exited\", axis=1).values\n",
    "y = df[\"exited\"].values\n",
    "\n",
    "X_train, X_test, y_train, y_test = train_test_split(X, y, test_size=0.2, random_state=514)"
   ]
  },
  {
   "cell_type": "code",
   "execution_count": 115,
   "metadata": {},
   "outputs": [],
   "source": [
    "#--------------------------------------------------\n",
    "# Stadadizing the numrical columns for training set\n",
    "#--------------------------------------------------\n",
    "std_scaler = StandardScaler().fit(X_train[:, [0, 2, 4, 8]])\n",
    "\n",
    "def preprocessor(X):\n",
    "    A = np.copy(X)\n",
    "    A[:, [0, 2, 4, 8]] = std_scaler.transform(X[:, [0, 2, 4, 8]])\n",
    "    return A\n",
    "\n",
    "preprocessor_transoformer = FunctionTransformer(preprocessor)"
   ]
  },
  {
   "cell_type": "markdown",
   "metadata": {},
   "source": [
    "In our imbalanced dataset, the occurrences of customers who do not churn significantly outnumber those who do churn. To address this imbalance, we employ oversampling techniques on train set, specifically using SMOTE (Synthetic Minority Over-sampling Technique). This method involves generating synthetic instances of the minority class, helping us balance the number of churn and non-churn instances in our dataset."
   ]
  },
  {
   "cell_type": "code",
   "execution_count": 116,
   "metadata": {},
   "outputs": [],
   "source": [
    "#--------------------------------------------\n",
    "# OverSampling\n",
    "#--------------------------------------------\n",
    "sm = SMOTE(random_state=514)\n",
    "X_train, y_train = sm.fit_resample(X_train, y_train)"
   ]
  },
  {
   "cell_type": "code",
   "execution_count": 117,
   "metadata": {},
   "outputs": [
    {
     "data": {
      "text/plain": [
       "{0: 6388, 1: 6388}"
      ]
     },
     "execution_count": 117,
     "metadata": {},
     "output_type": "execute_result"
    }
   ],
   "source": [
    "unique, count = np.unique(y_train, return_counts=True)\n",
    "{k:j for (k,j) in zip(unique, count)}"
   ]
  },
  {
   "cell_type": "code",
   "execution_count": 65,
   "metadata": {},
   "outputs": [],
   "source": [
    "rf_pipe = Pipeline(steps =[(\"scaler\", preprocessor_transoformer ), (\"RF\", RandomForestClassifier(random_state=42))])\n",
    "ada_pipe = Pipeline(steps =[(\"AD\", AdaBoostClassifier(random_state=42,learning_rate=0.01))])\n",
    "svm_pipe = Pipeline(steps =[(\"SVM\", SVC(random_state=42, kernel='rbf'))])\n",
    "\n",
    "\n",
    "f1_cross_val_scores = cross_val_score(rf_pipe, X_train, y_train, cv=5, scoring='f1')\n",
    "ada_f1_cross_val_scores = cross_val_score(ada_pipe, X_train, y_train, cv=5, scoring='f1')\n",
    "svm_f1_cross_val_scores = cross_val_score(svm_pipe, X_train, y_train, cv=5, scoring='f1')"
   ]
  },
  {
   "cell_type": "code",
   "execution_count": 78,
   "metadata": {},
   "outputs": [],
   "source": [
    "rf_pipe.fit(X_train, y_train)\n",
    "rf_prediction = rf_pipe.predict(X_test)\n",
    "\n",
    "ada_pipe.fit(X_train, y_train)\n",
    "ada_prediction = ada_pipe.predict(X_test)\n",
    "\n",
    "svm_pipe.fit(X_train, y_train)\n",
    "svm_prediction = svm_pipe.predict(X_test)"
   ]
  },
  {
   "cell_type": "code",
   "execution_count": 93,
   "metadata": {},
   "outputs": [
    {
     "data": {
      "text/plain": [
       "array([[1096,  243],\n",
       "       [ 479,  182]])"
      ]
     },
     "execution_count": 93,
     "metadata": {},
     "output_type": "execute_result"
    }
   ],
   "source": [
    "confusion_matrix(rf_prediction,y_test)"
   ]
  },
  {
   "cell_type": "code",
   "execution_count": 92,
   "metadata": {},
   "outputs": [
    {
     "data": {
      "text/plain": [
       "0.639"
      ]
     },
     "execution_count": 92,
     "metadata": {},
     "output_type": "execute_result"
    }
   ],
   "source": [
    "#f1(ada_prediction,y_test)\n",
    "accuracy_score(rf_prediction,y_test)"
   ]
  }
 ],
 "metadata": {
  "kernelspec": {
   "display_name": "ml-ai",
   "language": "python",
   "name": "python3"
  },
  "language_info": {
   "codemirror_mode": {
    "name": "ipython",
    "version": 3
   },
   "file_extension": ".py",
   "mimetype": "text/x-python",
   "name": "python",
   "nbconvert_exporter": "python",
   "pygments_lexer": "ipython3",
   "version": "3.12.1"
  }
 },
 "nbformat": 4,
 "nbformat_minor": 2
}
